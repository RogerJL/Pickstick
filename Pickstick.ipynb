{
 "nbformat": 4,
 "nbformat_minor": 0,
 "metadata": {
  "colab": {
   "provenance": []
  },
  "kernelspec": {
   "name": "python3",
   "display_name": "Python 3"
  },
  "language_info": {
   "name": "python"
  }
 },
 "cells": [
  {
   "cell_type": "code",
   "source": [
    "from analytical_playing import main_analytical\n",
    "from human_player import main_human\n",
    "from learn_by_playing import main_learn\n",
    "from learn_by_reinforced_reward import main_reinforced\n",
    "from learn_by_self_play import main_self_play"
   ],
   "metadata": {
    "colab": {
     "base_uri": "https://localhost:8080/"
    },
    "id": "OkJBEVBerWC5",
    "outputId": "04be20a3-a1a3-4e1c-a278-6da2d61df381"
   },
   "outputs": [],
   "execution_count": null
  },
  {
   "metadata": {},
   "cell_type": "code",
   "source": "main_learn()",
   "outputs": [],
   "execution_count": null
  }
 ]
}
